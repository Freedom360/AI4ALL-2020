{
 "cells": [
  {
   "cell_type": "markdown",
   "id": "090a1a83",
   "metadata": {},
   "source": [
    "Predicting Stock Price Using Python"
   ]
  },
  {
   "cell_type": "markdown",
   "id": "7b84f335",
   "metadata": {},
   "source": [
    "https://www.section.io/engineering-education/stock-price-prediction-using-python/"
   ]
  },
  {
   "cell_type": "markdown",
   "id": "5edbe861",
   "metadata": {},
   "source": [
    "Imports"
   ]
  },
  {
   "cell_type": "code",
   "execution_count": 84,
   "id": "6b081f13",
   "metadata": {},
   "outputs": [],
   "source": [
    "#import all necessary libraries\n",
    "import pandas as pd\n",
    "import numpy as np\n",
    "import matplotlib.pyplot as plt\n",
    "from sklearn.preprocessing import MinMaxScaler\n",
    "from keras.models import Sequential, load_model\n",
    "from keras.layers import LSTM, Dense, Dropout"
   ]
  },
  {
   "cell_type": "code",
   "execution_count": 85,
   "id": "56b50596",
   "metadata": {},
   "outputs": [
    {
     "data": {
      "text/html": [
       "<div>\n",
       "<style scoped>\n",
       "    .dataframe tbody tr th:only-of-type {\n",
       "        vertical-align: middle;\n",
       "    }\n",
       "\n",
       "    .dataframe tbody tr th {\n",
       "        vertical-align: top;\n",
       "    }\n",
       "\n",
       "    .dataframe thead th {\n",
       "        text-align: right;\n",
       "    }\n",
       "</style>\n",
       "<table border=\"1\" class=\"dataframe\">\n",
       "  <thead>\n",
       "    <tr style=\"text-align: right;\">\n",
       "      <th></th>\n",
       "      <th>Date</th>\n",
       "      <th>Open</th>\n",
       "      <th>High</th>\n",
       "      <th>Low</th>\n",
       "      <th>Close</th>\n",
       "      <th>Adj Close</th>\n",
       "      <th>Volume</th>\n",
       "    </tr>\n",
       "  </thead>\n",
       "  <tbody>\n",
       "    <tr>\n",
       "      <th>0</th>\n",
       "      <td>2011-12-16</td>\n",
       "      <td>20.237192</td>\n",
       "      <td>20.275143</td>\n",
       "      <td>19.952562</td>\n",
       "      <td>19.952562</td>\n",
       "      <td>13.860913</td>\n",
       "      <td>72646212</td>\n",
       "    </tr>\n",
       "    <tr>\n",
       "      <th>1</th>\n",
       "      <td>2011-12-19</td>\n",
       "      <td>20.047438</td>\n",
       "      <td>20.303604</td>\n",
       "      <td>19.962049</td>\n",
       "      <td>20.056927</td>\n",
       "      <td>13.933416</td>\n",
       "      <td>44838741</td>\n",
       "    </tr>\n",
       "    <tr>\n",
       "      <th>2</th>\n",
       "      <td>2011-12-20</td>\n",
       "      <td>20.218216</td>\n",
       "      <td>20.436434</td>\n",
       "      <td>20.047438</td>\n",
       "      <td>20.360531</td>\n",
       "      <td>14.144326</td>\n",
       "      <td>63744866</td>\n",
       "    </tr>\n",
       "    <tr>\n",
       "      <th>3</th>\n",
       "      <td>2011-12-21</td>\n",
       "      <td>20.436434</td>\n",
       "      <td>20.616697</td>\n",
       "      <td>20.294119</td>\n",
       "      <td>20.569260</td>\n",
       "      <td>14.289331</td>\n",
       "      <td>47315536</td>\n",
       "    </tr>\n",
       "    <tr>\n",
       "      <th>4</th>\n",
       "      <td>2011-12-22</td>\n",
       "      <td>20.540796</td>\n",
       "      <td>20.635674</td>\n",
       "      <td>20.455408</td>\n",
       "      <td>20.521822</td>\n",
       "      <td>14.256375</td>\n",
       "      <td>39297652</td>\n",
       "    </tr>\n",
       "  </tbody>\n",
       "</table>\n",
       "</div>"
      ],
      "text/plain": [
       "         Date       Open       High        Low      Close  Adj Close    Volume\n",
       "0  2011-12-16  20.237192  20.275143  19.952562  19.952562  13.860913  72646212\n",
       "1  2011-12-19  20.047438  20.303604  19.962049  20.056927  13.933416  44838741\n",
       "2  2011-12-20  20.218216  20.436434  20.047438  20.360531  14.144326  63744866\n",
       "3  2011-12-21  20.436434  20.616697  20.294119  20.569260  14.289331  47315536\n",
       "4  2011-12-22  20.540796  20.635674  20.455408  20.521822  14.256375  39297652"
      ]
     },
     "execution_count": 85,
     "metadata": {},
     "output_type": "execute_result"
    }
   ],
   "source": [
    "#read csv file into a pandas dataframe\n",
    "pfizer = pd.read_csv('PFE.csv')\n",
    "pfizer.head()\n"
   ]
  },
  {
   "cell_type": "code",
   "execution_count": 43,
   "id": "563e23b9",
   "metadata": {},
   "outputs": [
    {
     "data": {
      "text/plain": [
       "(2516, 7)"
      ]
     },
     "execution_count": 43,
     "metadata": {},
     "output_type": "execute_result"
    }
   ],
   "source": [
    "#find the number of rows and columns of dataframe\n",
    "pfizer.shape"
   ]
  },
  {
   "cell_type": "code",
   "execution_count": 87,
   "id": "e1ff73e0",
   "metadata": {},
   "outputs": [
    {
     "data": {
      "text/plain": [
       "<bound method NDFrame.describe of             Date       Open       High        Low      Close  Adj Close  \\\n",
       "0     2011-12-16  20.237192  20.275143  19.952562  19.952562  13.860913   \n",
       "1     2011-12-19  20.047438  20.303604  19.962049  20.056927  13.933416   \n",
       "2     2011-12-20  20.218216  20.436434  20.047438  20.360531  14.144326   \n",
       "3     2011-12-21  20.436434  20.616697  20.294119  20.569260  14.289331   \n",
       "4     2011-12-22  20.540796  20.635674  20.455408  20.521822  14.256375   \n",
       "...          ...        ...        ...        ...        ...        ...   \n",
       "2511  2021-12-09  51.509998  52.849998  51.509998  52.080002  52.080002   \n",
       "2512  2021-12-10  51.200001  52.849998  51.110001  52.779999  52.779999   \n",
       "2513  2021-12-13  53.439999  55.730000  53.439999  55.200001  55.200001   \n",
       "2514  2021-12-14  54.770000  55.950001  54.320000  55.540001  55.540001   \n",
       "2515  2021-12-15  56.110001  58.919998  55.889999  58.799999  58.799999   \n",
       "\n",
       "        Volume  \n",
       "0     72646212  \n",
       "1     44838741  \n",
       "2     63744866  \n",
       "3     47315536  \n",
       "4     39297652  \n",
       "...        ...  \n",
       "2511  38325700  \n",
       "2512  26043000  \n",
       "2513  54923200  \n",
       "2514  48685700  \n",
       "2515  75202900  \n",
       "\n",
       "[2516 rows x 7 columns]>"
      ]
     },
     "execution_count": 87,
     "metadata": {},
     "output_type": "execute_result"
    }
   ],
   "source": [
    "#find the unique values of the dataframe to check for null values\n",
    "pfizer.describe"
   ]
  },
  {
   "cell_type": "code",
   "execution_count": 44,
   "id": "89d4e874",
   "metadata": {},
   "outputs": [
    {
     "data": {
      "text/plain": [
       "pandas.core.frame.DataFrame"
      ]
     },
     "execution_count": 44,
     "metadata": {},
     "output_type": "execute_result"
    }
   ],
   "source": [
    "#check if pfizer is a pandas dataframe or a numpy array\n",
    "type(pfizer)"
   ]
  },
  {
   "cell_type": "code",
   "execution_count": 45,
   "id": "3aac99cf",
   "metadata": {},
   "outputs": [
    {
     "data": {
      "text/plain": [
       "array([20.237192, 20.047438, 20.218216, ..., 53.439999, 54.77    ,\n",
       "       56.110001])"
      ]
     },
     "execution_count": 45,
     "metadata": {},
     "output_type": "execute_result"
    }
   ],
   "source": [
    "#check the unique values of the Open column\n",
    "pfizer.Open.unique()"
   ]
  },
  {
   "cell_type": "code",
   "execution_count": 46,
   "id": "5dd9df11",
   "metadata": {},
   "outputs": [
    {
     "data": {
      "text/plain": [
       "array([[20.237192],\n",
       "       [20.047438],\n",
       "       [20.218216],\n",
       "       ...,\n",
       "       [53.439999],\n",
       "       [54.77    ],\n",
       "       [56.110001]])"
      ]
     },
     "execution_count": 46,
     "metadata": {},
     "output_type": "execute_result"
    }
   ],
   "source": [
    "#makes pfizer all the values of the Open column\n",
    "#reshapes the rows and columns to add a second dimension\n",
    "pfizer = pfizer['Open'].values\n",
    "pfizer = pfizer.reshape(-1,1)\n",
    "pfizer"
   ]
  },
  {
   "cell_type": "code",
   "execution_count": 48,
   "id": "c7a31a52",
   "metadata": {},
   "outputs": [
    {
     "data": {
      "text/plain": [
       "numpy.ndarray"
      ]
     },
     "execution_count": 48,
     "metadata": {},
     "output_type": "execute_result"
    }
   ],
   "source": [
    "#check if pfizer is a pandas dataframe or a numpy array\n",
    "type(pfizer)"
   ]
  },
  {
   "cell_type": "code",
   "execution_count": 47,
   "id": "8b0fc888",
   "metadata": {},
   "outputs": [],
   "source": [
    "#splitting dataset into training and testing datasets\n",
    "df_train = np.array(pfizer[:int(pfizer.shape[0]*0.8)])\n",
    "df_test = np.array(pfizer[int(pfizer.shape[0]*0.8):])"
   ]
  },
  {
   "cell_type": "code",
   "execution_count": 50,
   "id": "4c3fa0be",
   "metadata": {},
   "outputs": [],
   "source": [
    "#scaling data between 0 and 1 to make it smaller for a more accurate prediction\n",
    "#transforming training and testing datasets to fit according to the scale\n",
    "scaler = MinMaxScaler(feature_range = (0,1))\n",
    "df_train = scaler.fit_transform(df_train)\n",
    "df_test = scaler.fit_transform(df_test)"
   ]
  },
  {
   "cell_type": "code",
   "execution_count": 51,
   "id": "a434f07f",
   "metadata": {},
   "outputs": [],
   "source": [
    "#function that creates a datasets from training and testing\n",
    "#appends the last 50 prices for x\n",
    "#appens the next price for y\n",
    "# converts x and y into numpy arrays\n",
    "def create_df(pfizer):\n",
    "    x = []\n",
    "    y = []\n",
    "    for i in range (50, pfizer.shape[0]):\n",
    "        x.append(pfizer[i - 50: i, 0])\n",
    "        y.append(pfizer[i, 0])\n",
    "    x = np.array(x)\n",
    "    y = np.array(y)\n",
    "    return x, y"
   ]
  },
  {
   "cell_type": "code",
   "execution_count": 52,
   "id": "161b6899",
   "metadata": {},
   "outputs": [],
   "source": [
    "#create a training dataset for x and y using create_df function\n",
    "#create a testing dataset for x and y using create_df function\n",
    "x_train, y_train = create_df(df_train)\n",
    "x_test, y_test = create_df(df_test)"
   ]
  },
  {
   "cell_type": "code",
   "execution_count": 53,
   "id": "ef7cd126",
   "metadata": {},
   "outputs": [],
   "source": [
    "# x training dataset is reshaped to make it a 3D array for LSTM \n",
    "# x testing dataset is reshaped to make it a 3D array for LSTM \n",
    "x_train = np.reshape(x_train, (x_train.shape[0], x_train.shape[1], 1))\n",
    "x_test = np.reshape(x_test, (x_test.shape[0], x_test.shape[1], 1))"
   ]
  },
  {
   "cell_type": "code",
   "execution_count": 55,
   "id": "068f544a",
   "metadata": {},
   "outputs": [],
   "source": [
    "# sequential model is intialized with 96 units and input shape \n",
    "# drops 20% of the layers\n",
    "# returns the full sequence of layers instead of the last hidden output \n",
    "# dense layer is added and returns one output\n",
    "model = Sequential()\n",
    "model.add(LSTM(units = 96, return_sequences = True, input_shape = (x_train.shape[1], 1)))\n",
    "model.add(Dropout(0.2))\n",
    "model.add(LSTM(units = 96, return_sequences = True))\n",
    "model.add(Dropout(0.2))\n",
    "model.add(LSTM(units = 96, return_sequences = True))\n",
    "model.add(Dropout(0.2))\n",
    "model.add(LSTM(units = 96))\n",
    "model.add(Dropout(0.2))\n",
    "model.add(Dense(units = 1))"
   ]
  },
  {
   "cell_type": "code",
   "execution_count": 56,
   "id": "1a9a28f1",
   "metadata": {},
   "outputs": [],
   "source": [
    "# x training and testing datasets are reshaped for 3D\n",
    "x_train = np.reshape(x_train, (x_train.shape[0], x_train.shape[1], 1))\n",
    "x_test = np.reshape(x_test, (x_test.shape[0], x_test.shape[1], 1))"
   ]
  },
  {
   "cell_type": "code",
   "execution_count": 58,
   "id": "716437a4",
   "metadata": {},
   "outputs": [],
   "source": [
    "#compile model\n",
    "#loss = mse because it is regression\n",
    "#optimizer = adam because the weights need to be updated iteratively based on training data\n",
    "model.compile(loss = 'mean_squared_error', optimizer = 'adam')"
   ]
  },
  {
   "cell_type": "code",
   "execution_count": 60,
   "id": "f81d8628",
   "metadata": {},
   "outputs": [
    {
     "name": "stdout",
     "output_type": "stream",
     "text": [
      "Epoch 1/50\n",
      "62/62 [==============================] - 10s 159ms/step - loss: 0.0013\n",
      "Epoch 2/50\n",
      "62/62 [==============================] - 10s 155ms/step - loss: 0.0012\n",
      "Epoch 3/50\n",
      "62/62 [==============================] - 10s 166ms/step - loss: 0.0011\n",
      "Epoch 4/50\n",
      "62/62 [==============================] - 13s 207ms/step - loss: 0.0012\n",
      "Epoch 5/50\n",
      "62/62 [==============================] - 10s 158ms/step - loss: 0.0012\n",
      "Epoch 6/50\n",
      "62/62 [==============================] - 10s 157ms/step - loss: 0.0013\n",
      "Epoch 7/50\n",
      "62/62 [==============================] - 10s 159ms/step - loss: 0.0011\n",
      "Epoch 8/50\n",
      "62/62 [==============================] - 10s 158ms/step - loss: 0.0010\n",
      "Epoch 9/50\n",
      "62/62 [==============================] - 13s 205ms/step - loss: 0.0012\n",
      "Epoch 10/50\n",
      "62/62 [==============================] - 12s 193ms/step - loss: 0.0011\n",
      "Epoch 11/50\n",
      "62/62 [==============================] - 10s 159ms/step - loss: 0.0012\n",
      "Epoch 12/50\n",
      "62/62 [==============================] - 10s 160ms/step - loss: 0.0010\n",
      "Epoch 13/50\n",
      "62/62 [==============================] - 11s 169ms/step - loss: 8.9724e-04\n",
      "Epoch 14/50\n",
      "62/62 [==============================] - 10s 163ms/step - loss: 9.3877e-04\n",
      "Epoch 15/50\n",
      "62/62 [==============================] - 13s 204ms/step - loss: 9.7395e-04\n",
      "Epoch 16/50\n",
      "62/62 [==============================] - 10s 163ms/step - loss: 9.3411e-04\n",
      "Epoch 17/50\n",
      "62/62 [==============================] - 10s 157ms/step - loss: 0.0011\n",
      "Epoch 18/50\n",
      "62/62 [==============================] - 10s 160ms/step - loss: 0.0011\n",
      "Epoch 19/50\n",
      "62/62 [==============================] - 11s 171ms/step - loss: 9.0564e-04\n",
      "Epoch 20/50\n",
      "62/62 [==============================] - 10s 167ms/step - loss: 9.8125e-04\n",
      "Epoch 21/50\n",
      "62/62 [==============================] - 12s 192ms/step - loss: 9.3783e-04\n",
      "Epoch 22/50\n",
      "62/62 [==============================] - 10s 160ms/step - loss: 8.6597e-04\n",
      "Epoch 23/50\n",
      "62/62 [==============================] - 10s 157ms/step - loss: 9.1597e-04\n",
      "Epoch 24/50\n",
      "62/62 [==============================] - 10s 158ms/step - loss: 7.9355e-04\n",
      "Epoch 25/50\n",
      "62/62 [==============================] - 10s 160ms/step - loss: 8.4610e-04\n",
      "Epoch 26/50\n",
      "62/62 [==============================] - 10s 164ms/step - loss: 8.4840e-04\n",
      "Epoch 27/50\n",
      "62/62 [==============================] - 11s 178ms/step - loss: 8.0119e-04\n",
      "Epoch 28/50\n",
      "62/62 [==============================] - 10s 159ms/step - loss: 8.5553e-04\n",
      "Epoch 29/50\n",
      "62/62 [==============================] - 10s 160ms/step - loss: 7.9981e-04\n",
      "Epoch 30/50\n",
      "62/62 [==============================] - 10s 157ms/step - loss: 7.8540e-04\n",
      "Epoch 31/50\n",
      "62/62 [==============================] - 10s 157ms/step - loss: 8.0671e-04\n",
      "Epoch 32/50\n",
      "62/62 [==============================] - 10s 163ms/step - loss: 7.9193e-04\n",
      "Epoch 33/50\n",
      "62/62 [==============================] - 10s 158ms/step - loss: 9.2263e-04\n",
      "Epoch 34/50\n",
      "62/62 [==============================] - 10s 156ms/step - loss: 7.3058e-04\n",
      "Epoch 35/50\n",
      "62/62 [==============================] - 10s 156ms/step - loss: 8.6041e-04\n",
      "Epoch 36/50\n",
      "62/62 [==============================] - 10s 156ms/step - loss: 9.2954e-04\n",
      "Epoch 37/50\n",
      "62/62 [==============================] - 10s 155ms/step - loss: 9.1483e-04\n",
      "Epoch 38/50\n",
      "62/62 [==============================] - 10s 157ms/step - loss: 7.3837e-04\n",
      "Epoch 39/50\n",
      "62/62 [==============================] - 10s 161ms/step - loss: 6.6428e-04\n",
      "Epoch 40/50\n",
      "62/62 [==============================] - 10s 157ms/step - loss: 7.6079e-04\n",
      "Epoch 41/50\n",
      "62/62 [==============================] - 11s 176ms/step - loss: 7.1202e-04\n",
      "Epoch 42/50\n",
      "62/62 [==============================] - 10s 161ms/step - loss: 7.6218e-04\n",
      "Epoch 43/50\n",
      "62/62 [==============================] - 10s 159ms/step - loss: 7.0623e-04\n",
      "Epoch 44/50\n",
      "62/62 [==============================] - 12s 186ms/step - loss: 6.9642e-04\n",
      "Epoch 45/50\n",
      "62/62 [==============================] - 13s 208ms/step - loss: 6.7090e-04\n",
      "Epoch 46/50\n",
      "62/62 [==============================] - 10s 162ms/step - loss: 6.8610e-04\n",
      "Epoch 47/50\n",
      "62/62 [==============================] - 10s 157ms/step - loss: 6.8350e-04\n",
      "Epoch 48/50\n",
      "62/62 [==============================] - 10s 157ms/step - loss: 7.4003e-04\n",
      "Epoch 49/50\n",
      "62/62 [==============================] - 10s 157ms/step - loss: 7.2159e-04\n",
      "Epoch 50/50\n",
      "62/62 [==============================] - 10s 161ms/step - loss: 7.3786e-04\n"
     ]
    }
   ],
   "source": [
    "#fit model with 50 cycles of training dataset and 32 training examples in one iteration\n",
    "# save the model\n",
    "model.fit(x_train, y_train, epochs = 50, batch_size = 32)\n",
    "model.save('stock_prediction.h5')"
   ]
  },
  {
   "cell_type": "code",
   "execution_count": 61,
   "id": "e09489da",
   "metadata": {},
   "outputs": [],
   "source": [
    "#load the model\n",
    "model = load_model('stock_prediction.h5')"
   ]
  },
  {
   "cell_type": "code",
   "execution_count": 90,
   "id": "0f8b700e",
   "metadata": {},
   "outputs": [
    {
     "data": {
      "text/plain": [
       "Text(0, 0.5, 'Stock Price (USD)')"
      ]
     },
     "execution_count": 90,
     "metadata": {},
     "output_type": "execute_result"
    },
    {
     "data": {
      "image/png": "[encoded data removed]",
      "text/plain": [
       "<Figure size 1152x576 with 1 Axes>"
      ]
     },
     "metadata": {
      "needs_background": "light"
     },
     "output_type": "display_data"
    }
   ],
   "source": [
    "# make a model prediction using x_test and scale it\n",
    "# y_test is scaled and reshaped\n",
    "# predictions and y_test_sclaled are plotted where the red line is the original price and the cyan line is the predicted price\n",
    "predictions = model.predict(x_test)\n",
    "predictions = scaler.inverse_transform(predictions)\n",
    "y_test_scaled = scaler.inverse_transform(y_test.reshape(-1, 1))\n",
    "\n",
    "fig, ax = plt.subplots(figsize=(16,8))\n",
    "ax.set_facecolor('#000041')\n",
    "ax.plot(y_test_scaled, color='red', label='Original price')\n",
    "plt.plot(predictions, color='cyan', label='Predicted price')\n",
    "plt.legend()\n",
    "plt.title('PFE Price Prediction')\n",
    "plt.xlabel('Trading Day')\n",
    "plt.ylabel('Stock Price (USD)')"
   ]
  },
  {
   "cell_type": "code",
   "execution_count": 92,
   "id": "3442e84c",
   "metadata": {},
   "outputs": [
    {
     "name": "stdout",
     "output_type": "stream",
     "text": [
      "15/15 [==============================] - 0s 4ms/step - loss: 1294.6333\n"
     ]
    },
    {
     "data": {
      "text/plain": [
       "{'loss': 1294.63330078125}"
      ]
     },
     "execution_count": 92,
     "metadata": {},
     "output_type": "execute_result"
    }
   ],
   "source": [
    "#evaluating the model's accuracy based on loss\n",
    "model.evaluate(y_test_scaled, predictions, batch_size = 32, return_dict = True)"
   ]
  }
 ],
 "metadata": {
  "kernelspec": {
   "display_name": "Python 3 (ipykernel)",
   "language": "python",
   "name": "python3"
  },
  "language_info": {
   "codemirror_mode": {
    "name": "ipython",
    "version": 3
   },
   "file_extension": ".py",
   "mimetype": "text/x-python",
   "name": "python",
   "nbconvert_exporter": "python",
   "pygments_lexer": "ipython3",
   "version": "3.9.0"
  }
 },
 "nbformat": 4,
 "nbformat_minor": 5
}
